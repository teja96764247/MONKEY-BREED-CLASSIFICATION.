{
  "nbformat": 4,
  "nbformat_minor": 0,
  "metadata": {
    "colab": {
      "provenance": []
    },
    "kernelspec": {
      "name": "python3",
      "display_name": "Python 3"
    },
    "language_info": {
      "name": "python"
    }
  },
  "cells": [
    {
      "cell_type": "code",
      "execution_count": 1,
      "metadata": {
        "id": "E0-LTFzY74V1"
      },
      "outputs": [],
      "source": [
        "!mkdir -p ~/.kaggle\n",
        "!cp kaggle.json ~/.kaggle/\n",
        "!chmod 600 ~/.kaggle/kaggle.json"
      ]
    },
    {
      "cell_type": "code",
      "source": [
        "!kaggle datasets download -d gauravduttakiit/money-breed-dataset"
      ],
      "metadata": {
        "colab": {
          "base_uri": "https://localhost:8080/"
        },
        "id": "4m7N0i-b76HC",
        "outputId": "847ff484-533f-448b-d6a9-23fad89cb596"
      },
      "execution_count": 2,
      "outputs": [
        {
          "output_type": "stream",
          "name": "stdout",
          "text": [
            "Downloading money-breed-dataset.zip to /content\n",
            "100% 545M/547M [00:27<00:00, 25.3MB/s]\n",
            "100% 547M/547M [00:27<00:00, 20.8MB/s]\n"
          ]
        }
      ]
    },
    {
      "cell_type": "code",
      "source": [
        "from zipfile import ZipFile\n",
        "dataset = '/content/money-breed-dataset.zip'\n",
        "\n",
        "with ZipFile(dataset,'r') as zip:\n",
        "  zip.extractall()\n",
        "  print('The dataset is extracted')"
      ],
      "metadata": {
        "colab": {
          "base_uri": "https://localhost:8080/"
        },
        "id": "NXW9edHe8CrW",
        "outputId": "f006399f-3a7a-4ecb-a8cb-e22aa15d44fd"
      },
      "execution_count": 3,
      "outputs": [
        {
          "output_type": "stream",
          "name": "stdout",
          "text": [
            "The dataset is extracted\n"
          ]
        }
      ]
    },
    {
      "cell_type": "code",
      "source": [
        "import numpy as np\n",
        "import pandas as pd\n",
        "import matplotlib.pyplot as plt\n",
        "import os\n",
        "import cv2\n",
        "from PIL import Image\n",
        "from google.colab.patches import cv2_imshow"
      ],
      "metadata": {
        "id": "Su4SWQyq8JUv"
      },
      "execution_count": 17,
      "outputs": []
    },
    {
      "cell_type": "code",
      "source": [
        "filename=os.listdir('/content/4.1 monkey_breed.zip/monkey_breed/train')\n",
        "print(filename)"
      ],
      "metadata": {
        "colab": {
          "base_uri": "https://localhost:8080/"
        },
        "id": "a5Dbju6V8SZT",
        "outputId": "8d6e4fcb-870c-4664-fb9b-787f3b42876b"
      },
      "execution_count": 6,
      "outputs": [
        {
          "output_type": "stream",
          "name": "stdout",
          "text": [
            "['n1', 'n9', 'n6', 'n8', 'n2', 'n0', 'n3', 'n7', 'n4', 'n5']\n"
          ]
        }
      ]
    },
    {
      "cell_type": "code",
      "source": [
        "label_data=pd.read_csv('/content/monkey.csv')\n",
        "label_data.head()"
      ],
      "metadata": {
        "colab": {
          "base_uri": "https://localhost:8080/",
          "height": 206
        },
        "id": "uwPWXgAg8rcB",
        "outputId": "a52664b1-e654-49e1-b63c-a751f8dca767"
      },
      "execution_count": 7,
      "outputs": [
        {
          "output_type": "execute_result",
          "data": {
            "text/plain": [
              "   Label    Latin Name              Common Name                     \\\n",
              "0  n0        alouatta_palliata\\t    mantled_howler                   \n",
              "1  n1       erythrocebus_patas\\t    patas_monkey                     \n",
              "2  n2       cacajao_calvus\\t        bald_uakari                      \n",
              "3  n3       macaca_fuscata\\t        japanese_macaque                 \n",
              "4  n4      cebuella_pygmea\\t        pygmy_marmoset                   \n",
              "\n",
              "    Train Images    Validation Images  \n",
              "0             131                  26  \n",
              "1             139                  28  \n",
              "2             137                  27  \n",
              "3             152                  30  \n",
              "4             131                  26  "
            ],
            "text/html": [
              "\n",
              "  <div id=\"df-59d2a160-701a-4198-a54a-845ce9eea538\" class=\"colab-df-container\">\n",
              "    <div>\n",
              "<style scoped>\n",
              "    .dataframe tbody tr th:only-of-type {\n",
              "        vertical-align: middle;\n",
              "    }\n",
              "\n",
              "    .dataframe tbody tr th {\n",
              "        vertical-align: top;\n",
              "    }\n",
              "\n",
              "    .dataframe thead th {\n",
              "        text-align: right;\n",
              "    }\n",
              "</style>\n",
              "<table border=\"1\" class=\"dataframe\">\n",
              "  <thead>\n",
              "    <tr style=\"text-align: right;\">\n",
              "      <th></th>\n",
              "      <th>Label</th>\n",
              "      <th>Latin Name</th>\n",
              "      <th>Common Name</th>\n",
              "      <th>Train Images</th>\n",
              "      <th>Validation Images</th>\n",
              "    </tr>\n",
              "  </thead>\n",
              "  <tbody>\n",
              "    <tr>\n",
              "      <th>0</th>\n",
              "      <td>n0</td>\n",
              "      <td>alouatta_palliata\\t</td>\n",
              "      <td>mantled_howler</td>\n",
              "      <td>131</td>\n",
              "      <td>26</td>\n",
              "    </tr>\n",
              "    <tr>\n",
              "      <th>1</th>\n",
              "      <td>n1</td>\n",
              "      <td>erythrocebus_patas\\t</td>\n",
              "      <td>patas_monkey</td>\n",
              "      <td>139</td>\n",
              "      <td>28</td>\n",
              "    </tr>\n",
              "    <tr>\n",
              "      <th>2</th>\n",
              "      <td>n2</td>\n",
              "      <td>cacajao_calvus\\t</td>\n",
              "      <td>bald_uakari</td>\n",
              "      <td>137</td>\n",
              "      <td>27</td>\n",
              "    </tr>\n",
              "    <tr>\n",
              "      <th>3</th>\n",
              "      <td>n3</td>\n",
              "      <td>macaca_fuscata\\t</td>\n",
              "      <td>japanese_macaque</td>\n",
              "      <td>152</td>\n",
              "      <td>30</td>\n",
              "    </tr>\n",
              "    <tr>\n",
              "      <th>4</th>\n",
              "      <td>n4</td>\n",
              "      <td>cebuella_pygmea\\t</td>\n",
              "      <td>pygmy_marmoset</td>\n",
              "      <td>131</td>\n",
              "      <td>26</td>\n",
              "    </tr>\n",
              "  </tbody>\n",
              "</table>\n",
              "</div>\n",
              "    <div class=\"colab-df-buttons\">\n",
              "\n",
              "  <div class=\"colab-df-container\">\n",
              "    <button class=\"colab-df-convert\" onclick=\"convertToInteractive('df-59d2a160-701a-4198-a54a-845ce9eea538')\"\n",
              "            title=\"Convert this dataframe to an interactive table.\"\n",
              "            style=\"display:none;\">\n",
              "\n",
              "  <svg xmlns=\"http://www.w3.org/2000/svg\" height=\"24px\" viewBox=\"0 -960 960 960\">\n",
              "    <path d=\"M120-120v-720h720v720H120Zm60-500h600v-160H180v160Zm220 220h160v-160H400v160Zm0 220h160v-160H400v160ZM180-400h160v-160H180v160Zm440 0h160v-160H620v160ZM180-180h160v-160H180v160Zm440 0h160v-160H620v160Z\"/>\n",
              "  </svg>\n",
              "    </button>\n",
              "\n",
              "  <style>\n",
              "    .colab-df-container {\n",
              "      display:flex;\n",
              "      gap: 12px;\n",
              "    }\n",
              "\n",
              "    .colab-df-convert {\n",
              "      background-color: #E8F0FE;\n",
              "      border: none;\n",
              "      border-radius: 50%;\n",
              "      cursor: pointer;\n",
              "      display: none;\n",
              "      fill: #1967D2;\n",
              "      height: 32px;\n",
              "      padding: 0 0 0 0;\n",
              "      width: 32px;\n",
              "    }\n",
              "\n",
              "    .colab-df-convert:hover {\n",
              "      background-color: #E2EBFA;\n",
              "      box-shadow: 0px 1px 2px rgba(60, 64, 67, 0.3), 0px 1px 3px 1px rgba(60, 64, 67, 0.15);\n",
              "      fill: #174EA6;\n",
              "    }\n",
              "\n",
              "    .colab-df-buttons div {\n",
              "      margin-bottom: 4px;\n",
              "    }\n",
              "\n",
              "    [theme=dark] .colab-df-convert {\n",
              "      background-color: #3B4455;\n",
              "      fill: #D2E3FC;\n",
              "    }\n",
              "\n",
              "    [theme=dark] .colab-df-convert:hover {\n",
              "      background-color: #434B5C;\n",
              "      box-shadow: 0px 1px 3px 1px rgba(0, 0, 0, 0.15);\n",
              "      filter: drop-shadow(0px 1px 2px rgba(0, 0, 0, 0.3));\n",
              "      fill: #FFFFFF;\n",
              "    }\n",
              "  </style>\n",
              "\n",
              "    <script>\n",
              "      const buttonEl =\n",
              "        document.querySelector('#df-59d2a160-701a-4198-a54a-845ce9eea538 button.colab-df-convert');\n",
              "      buttonEl.style.display =\n",
              "        google.colab.kernel.accessAllowed ? 'block' : 'none';\n",
              "\n",
              "      async function convertToInteractive(key) {\n",
              "        const element = document.querySelector('#df-59d2a160-701a-4198-a54a-845ce9eea538');\n",
              "        const dataTable =\n",
              "          await google.colab.kernel.invokeFunction('convertToInteractive',\n",
              "                                                    [key], {});\n",
              "        if (!dataTable) return;\n",
              "\n",
              "        const docLinkHtml = 'Like what you see? Visit the ' +\n",
              "          '<a target=\"_blank\" href=https://colab.research.google.com/notebooks/data_table.ipynb>data table notebook</a>'\n",
              "          + ' to learn more about interactive tables.';\n",
              "        element.innerHTML = '';\n",
              "        dataTable['output_type'] = 'display_data';\n",
              "        await google.colab.output.renderOutput(dataTable, element);\n",
              "        const docLink = document.createElement('div');\n",
              "        docLink.innerHTML = docLinkHtml;\n",
              "        element.appendChild(docLink);\n",
              "      }\n",
              "    </script>\n",
              "  </div>\n",
              "\n",
              "\n",
              "<div id=\"df-d3b86d16-c9d1-4610-85b0-b674d1fb9151\">\n",
              "  <button class=\"colab-df-quickchart\" onclick=\"quickchart('df-d3b86d16-c9d1-4610-85b0-b674d1fb9151')\"\n",
              "            title=\"Suggest charts.\"\n",
              "            style=\"display:none;\">\n",
              "\n",
              "<svg xmlns=\"http://www.w3.org/2000/svg\" height=\"24px\"viewBox=\"0 0 24 24\"\n",
              "     width=\"24px\">\n",
              "    <g>\n",
              "        <path d=\"M19 3H5c-1.1 0-2 .9-2 2v14c0 1.1.9 2 2 2h14c1.1 0 2-.9 2-2V5c0-1.1-.9-2-2-2zM9 17H7v-7h2v7zm4 0h-2V7h2v10zm4 0h-2v-4h2v4z\"/>\n",
              "    </g>\n",
              "</svg>\n",
              "  </button>\n",
              "\n",
              "<style>\n",
              "  .colab-df-quickchart {\n",
              "      --bg-color: #E8F0FE;\n",
              "      --fill-color: #1967D2;\n",
              "      --hover-bg-color: #E2EBFA;\n",
              "      --hover-fill-color: #174EA6;\n",
              "      --disabled-fill-color: #AAA;\n",
              "      --disabled-bg-color: #DDD;\n",
              "  }\n",
              "\n",
              "  [theme=dark] .colab-df-quickchart {\n",
              "      --bg-color: #3B4455;\n",
              "      --fill-color: #D2E3FC;\n",
              "      --hover-bg-color: #434B5C;\n",
              "      --hover-fill-color: #FFFFFF;\n",
              "      --disabled-bg-color: #3B4455;\n",
              "      --disabled-fill-color: #666;\n",
              "  }\n",
              "\n",
              "  .colab-df-quickchart {\n",
              "    background-color: var(--bg-color);\n",
              "    border: none;\n",
              "    border-radius: 50%;\n",
              "    cursor: pointer;\n",
              "    display: none;\n",
              "    fill: var(--fill-color);\n",
              "    height: 32px;\n",
              "    padding: 0;\n",
              "    width: 32px;\n",
              "  }\n",
              "\n",
              "  .colab-df-quickchart:hover {\n",
              "    background-color: var(--hover-bg-color);\n",
              "    box-shadow: 0 1px 2px rgba(60, 64, 67, 0.3), 0 1px 3px 1px rgba(60, 64, 67, 0.15);\n",
              "    fill: var(--button-hover-fill-color);\n",
              "  }\n",
              "\n",
              "  .colab-df-quickchart-complete:disabled,\n",
              "  .colab-df-quickchart-complete:disabled:hover {\n",
              "    background-color: var(--disabled-bg-color);\n",
              "    fill: var(--disabled-fill-color);\n",
              "    box-shadow: none;\n",
              "  }\n",
              "\n",
              "  .colab-df-spinner {\n",
              "    border: 2px solid var(--fill-color);\n",
              "    border-color: transparent;\n",
              "    border-bottom-color: var(--fill-color);\n",
              "    animation:\n",
              "      spin 1s steps(1) infinite;\n",
              "  }\n",
              "\n",
              "  @keyframes spin {\n",
              "    0% {\n",
              "      border-color: transparent;\n",
              "      border-bottom-color: var(--fill-color);\n",
              "      border-left-color: var(--fill-color);\n",
              "    }\n",
              "    20% {\n",
              "      border-color: transparent;\n",
              "      border-left-color: var(--fill-color);\n",
              "      border-top-color: var(--fill-color);\n",
              "    }\n",
              "    30% {\n",
              "      border-color: transparent;\n",
              "      border-left-color: var(--fill-color);\n",
              "      border-top-color: var(--fill-color);\n",
              "      border-right-color: var(--fill-color);\n",
              "    }\n",
              "    40% {\n",
              "      border-color: transparent;\n",
              "      border-right-color: var(--fill-color);\n",
              "      border-top-color: var(--fill-color);\n",
              "    }\n",
              "    60% {\n",
              "      border-color: transparent;\n",
              "      border-right-color: var(--fill-color);\n",
              "    }\n",
              "    80% {\n",
              "      border-color: transparent;\n",
              "      border-right-color: var(--fill-color);\n",
              "      border-bottom-color: var(--fill-color);\n",
              "    }\n",
              "    90% {\n",
              "      border-color: transparent;\n",
              "      border-bottom-color: var(--fill-color);\n",
              "    }\n",
              "  }\n",
              "</style>\n",
              "\n",
              "  <script>\n",
              "    async function quickchart(key) {\n",
              "      const quickchartButtonEl =\n",
              "        document.querySelector('#' + key + ' button');\n",
              "      quickchartButtonEl.disabled = true;  // To prevent multiple clicks.\n",
              "      quickchartButtonEl.classList.add('colab-df-spinner');\n",
              "      try {\n",
              "        const charts = await google.colab.kernel.invokeFunction(\n",
              "            'suggestCharts', [key], {});\n",
              "      } catch (error) {\n",
              "        console.error('Error during call to suggestCharts:', error);\n",
              "      }\n",
              "      quickchartButtonEl.classList.remove('colab-df-spinner');\n",
              "      quickchartButtonEl.classList.add('colab-df-quickchart-complete');\n",
              "    }\n",
              "    (() => {\n",
              "      let quickchartButtonEl =\n",
              "        document.querySelector('#df-d3b86d16-c9d1-4610-85b0-b674d1fb9151 button');\n",
              "      quickchartButtonEl.style.display =\n",
              "        google.colab.kernel.accessAllowed ? 'block' : 'none';\n",
              "    })();\n",
              "  </script>\n",
              "</div>\n",
              "    </div>\n",
              "  </div>\n"
            ]
          },
          "metadata": {},
          "execution_count": 7
        }
      ]
    },
    {
      "cell_type": "code",
      "source": [
        "label_data.shape"
      ],
      "metadata": {
        "colab": {
          "base_uri": "https://localhost:8080/"
        },
        "id": "kUDgNxi--gzK",
        "outputId": "ddea11b6-abb2-421e-9a75-60801f063f0b"
      },
      "execution_count": 19,
      "outputs": [
        {
          "output_type": "execute_result",
          "data": {
            "text/plain": [
              "(10, 5)"
            ]
          },
          "metadata": {},
          "execution_count": 19
        }
      ]
    },
    {
      "cell_type": "code",
      "source": [
        "n0_file=os.listdir('/content/4.1 monkey_breed.zip/monkey_breed/train/n0')\n",
        "print(n0_file)\n",
        "print(len(n0_file))"
      ],
      "metadata": {
        "colab": {
          "base_uri": "https://localhost:8080/"
        },
        "id": "sPYNthxm86SL",
        "outputId": "65498f5f-f5c7-4a4f-c607-06990267e55e"
      },
      "execution_count": 13,
      "outputs": [
        {
          "output_type": "stream",
          "name": "stdout",
          "text": [
            "['n0146.jpg', 'n0113.jpg', 'n0019.jpg', 'n0117.jpg', 'n0030.jpg', 'n0164.jpg', 'n0135.jpg', 'n0032.jpg', 'n0176.jpg', 'n018.jpg', 'n0172.jpg', 'n0026.jpg', 'n0031.jpg', 'n0052.jpg', 'n0149.jpg', 'n0037.jpg', 'n0112.jpg', 'n0034.jpg', 'n0169.jpg', 'n0028.jpg', 'n0133.jpg', 'n0140.jpg', 'n0148.jpg', 'n0160.jpg', 'n0115.jpg', 'n0151.jpg', 'n0175.jpg', 'n0174.jpg', 'n0033.jpg', 'n0023.jpg', 'n0111.jpg', 'n0145.jpg', 'n0142.jpg', 'n0153.jpg', 'n0128.jpg', 'n0170.jpg', 'n0022.jpg', 'n0136.jpg', 'n0040.jpg', 'n0137.jpg', 'n0144.jpg', 'n0044.jpg', 'n0161.jpg', 'n0120.jpg', 'n0126.jpg', 'n0045.jpg', 'n0152.jpg', 'n0127.jpg', 'n0158.jpg', 'n0159.jpg', 'n019.jpg', 'n0053.jpg', 'n0121.jpg', 'n0038.jpg', 'n0165.jpg', 'n0116.jpg', 'n0155.jpg', 'n0020.jpg', 'n0166.jpg', 'n0123.jpg', 'n0021.jpg', 'n0157.jpg', 'n0018.jpg', 'n0114.jpg', 'n0048.jpg', 'n0143.jpg', 'n0163.jpg', 'n0122.jpg', 'n0118.jpg', 'n0154.jpg', 'n0041.jpg', 'n0029.jpg', 'n0162.jpg', 'n0134.jpg', 'n0132.jpg', 'n0049.jpg', 'n0046.jpg', 'n0129.jpg', 'n0125.jpg', 'n0150.jpg', 'n0110.jpg', 'n0027.jpg', 'n0168.jpg', 'n0141.jpg', 'n0039.jpg', 'n0036.jpg', 'n0139.jpg', 'n0138.jpg', 'n0025.jpg', 'n0119.jpg', 'n0051.jpg', 'n0156.jpg', 'n0173.jpg', 'n0043.jpg', 'n0124.jpg', 'n0050.jpg', 'n0167.jpg', 'n0131.jpg', 'n0035.jpg', 'n0147.jpg', 'n0171.jpg', 'n0130.jpg', 'n0047.jpg', 'n0042.jpg', 'n0024.jpg']\n",
            "105\n"
          ]
        }
      ]
    },
    {
      "cell_type": "code",
      "source": [
        "data=[]"
      ],
      "metadata": {
        "id": "aa25jOmj9U76"
      },
      "execution_count": 41,
      "outputs": []
    },
    {
      "cell_type": "code",
      "source": [
        "for i in range(105):\n",
        "  img_path='/content/4.1 monkey_breed.zip/monkey_breed/train/n0/'+n0_file[i]\n",
        "  img_pillow=Image.open(img_path)\n",
        "  img_color=img_pillow.convert('RGB')\n",
        "  img_resized=img_color.resize((64,64))\n",
        "  img_arr=np.array(img_resized)\n",
        "  data.append([img_arr,0])"
      ],
      "metadata": {
        "id": "IyScFnRa9cxT"
      },
      "execution_count": 42,
      "outputs": []
    },
    {
      "cell_type": "code",
      "source": [
        "n1_file=os.listdir('/content/4.1 monkey_breed.zip/monkey_breed/train/n1')\n",
        "print(n1_file)\n",
        "print(len(n1_file))"
      ],
      "metadata": {
        "colab": {
          "base_uri": "https://localhost:8080/"
        },
        "id": "dl12vHsD-LRd",
        "outputId": "f96751f2-2e43-405c-fc1e-9133c30732e1"
      },
      "execution_count": 43,
      "outputs": [
        {
          "output_type": "stream",
          "name": "stdout",
          "text": [
            "['n1030.jpg', 'n1164.jpg', 'n1126.jpg', 'n1019.jpg', 'n1068.jpg', 'n1070.jpg', 'n1066.jpg', 'n1061.jpg', 'n1043.jpg', 'n1116.jpg', 'n1042.jpg', 'n1038.jpg', 'n1123.jpg', 'n1071.jpg', 'n1036.jpg', 'n1025.jpg', 'n1136.jpg', 'n1028.jpg', 'n1120.jpg', 'n1158.jpg', 'n1064.jpg', 'n1063.jpg', 'n1046.jpg', 'n1152.jpg', 'n1155.jpg', 'n1163.jpg', 'n1058.jpg', 'n1144.jpg', 'n1039.jpg', 'n1118.jpg', 'n1069.jpg', 'n1048.jpg', 'n1024.jpg', 'n1053.jpg', 'n1140.jpg', 'n1111.jpg', 'n1119.jpg', 'n1141.jpg', 'n1114.jpg', 'n1127.jpg', 'n1029.jpg', 'n1027.jpg', 'n1160.jpg', 'n1139.jpg', 'n1161.jpg', 'n1130.jpg', 'n1049.jpg', 'n1129.jpg', 'n1035.jpg', 'n1021.jpg', 'n1147.jpg', 'n1047.jpg', 'n1065.jpg', 'n1023.jpg', 'n1128.jpg', 'n1135.jpg', 'n1142.jpg', 'n1110.jpg', 'n1050.jpg', 'n1041.jpg', 'n1150.jpg', 'n1162.jpg', 'n1051.jpg', 'n1062.jpg', 'n1060.jpg', 'n1056.jpg', 'n1124.jpg', 'n1157.jpg', 'n1151.jpg', 'n1017.jpg', 'n1132.jpg', 'n1067.jpg', 'n1059.jpg', 'n1131.jpg', 'n1115.jpg', 'n1032.jpg', 'n1034.jpg', 'n1026.jpg', 'n1055.jpg', 'n1112.jpg', 'n1137.jpg', 'n1154.jpg', 'n1133.jpg', 'n1159.jpg', 'n1033.jpg', 'n1149.jpg', 'n1113.jpg', 'n1165.jpg', 'n1138.jpg', 'n1121.jpg', 'n1037.jpg', 'n1052.jpg', 'n1143.jpg', 'n1117.jpg', 'n1054.jpg', 'n1122.jpg', 'n1022.jpg', 'n1057.jpg', 'n1072.jpg', 'n1148.jpg', 'n1156.jpg', 'n1145.jpg', 'n1031.jpg', 'n1018.jpg', 'n1044.jpg', 'n1153.jpg', 'n1134.jpg', 'n1146.jpg', 'n1045.jpg', 'n1125.jpg', 'n1040.jpg']\n",
            "111\n"
          ]
        }
      ]
    },
    {
      "cell_type": "code",
      "source": [
        "for i in range(111):\n",
        "  img_path='/content/4.1 monkey_breed.zip/monkey_breed/train/n1/'+n1_file[i]\n",
        "  img_pillow=Image.open(img_path)\n",
        "  img_color=img_pillow.convert('RGB')\n",
        "  img_resized=img_color.resize((64,64))\n",
        "  img_arr=np.array(img_resized)\n",
        "  data.append([img_arr,1])"
      ],
      "metadata": {
        "id": "7QgPJ1Tc-ud4"
      },
      "execution_count": 44,
      "outputs": []
    },
    {
      "cell_type": "code",
      "source": [
        "n2_file=os.listdir('/content/4.1 monkey_breed.zip/monkey_breed/train/n2')\n",
        "print(n2_file)\n",
        "print(len(n2_file))"
      ],
      "metadata": {
        "colab": {
          "base_uri": "https://localhost:8080/"
        },
        "id": "ULCPwcJb-5ZE",
        "outputId": "b7be76eb-85a7-4d93-b335-5991afc9973d"
      },
      "execution_count": 45,
      "outputs": [
        {
          "output_type": "stream",
          "name": "stdout",
          "text": [
            "['n2147.jpg', 'n2111.jpg', 'n2025.jpg', 'n2047.jpg', 'n2154.jpg', 'n2134.jpg', 'n2037.jpg', 'n2060.jpg', 'n2059.jpg', 'n2157.jpg', 'n2053.jpg', 'n2155.jpg', 'n2160.jpg', 'n2031.jpg', 'n2165.jpg', 'n2051.jpg', 'n2113.jpg', 'n2116.jpg', 'n2148.jpg', 'n2024.jpg', 'n2017.jpg', 'n2137.jpg', 'n2049.jpg', 'n2141.jpg', 'n2158.jpg', 'n2018.jpg', 'n2139.jpg', 'n2067.jpg', 'n2048.jpg', 'n2151.jpg', 'n2029.jpg', 'n2039.jpg', 'n2019.jpg', 'n2149.jpg', 'n2050.jpg', 'n2028.jpg', 'n2035.jpg', 'n2161.jpg', 'n2056.jpg', 'n2066.jpg', 'n2132.jpg', 'n2131.jpg', 'n2040.jpg', 'n2159.jpg', 'n2068.jpg', 'n2026.jpg', 'n2044.jpg', 'n2065.jpg', 'n2110.jpg', 'n2023.jpg', 'n2140.jpg', 'n2112.jpg', 'n2062.jpg', 'n2146.jpg', 'n2114.jpg', 'n2164.jpg', 'n2135.jpg', 'n2156.jpg', 'n2163.jpg', 'n2122.jpg', 'n2119.jpg', 'n2038.jpg', 'n2129.jpg', 'n2022.jpg', 'n2126.jpg', 'n2064.jpg', 'n2136.jpg', 'n2133.jpg', 'n2027.jpg', 'n2142.jpg', 'n2054.jpg', 'n2130.jpg', 'n2162.jpg', 'n2045.jpg', 'n2041.jpg', 'n2153.jpg', 'n2128.jpg', 'n2150.jpg', 'n2152.jpg', 'n2021.jpg', 'n2033.jpg', 'n2144.jpg', 'n2036.jpg', 'n2032.jpg', 'n2123.jpg', 'n2138.jpg', 'n2125.jpg', 'n2058.jpg', 'n2143.jpg', 'n2127.jpg', 'n2046.jpg', 'n2166.jpg', 'n2020.jpg', 'n2145.jpg', 'n2063.jpg', 'n2069.jpg', 'n2118.jpg', 'n2120.jpg', 'n2052.jpg', 'n2030.jpg', 'n2121.jpg', 'n2061.jpg', 'n2124.jpg', 'n2117.jpg', 'n2115.jpg', 'n2043.jpg', 'n2034.jpg', 'n2042.jpg', 'n2055.jpg', 'n2057.jpg']\n",
            "110\n"
          ]
        }
      ]
    },
    {
      "cell_type": "code",
      "source": [
        "for i in range(110):\n",
        "  img_path='/content/4.1 monkey_breed.zip/monkey_breed/train/n2/'+n2_file[i]\n",
        "  img_pillow=Image.open(img_path)\n",
        "  img_color=img_pillow.convert('RGB')\n",
        "  img_resized=img_color.resize((64,64))\n",
        "  img_arr=np.array(img_resized)\n",
        "  data.append([img_arr,2])"
      ],
      "metadata": {
        "id": "Y4AgDev7-5ej"
      },
      "execution_count": 46,
      "outputs": []
    },
    {
      "cell_type": "code",
      "source": [
        "n3_file=os.listdir('/content/4.1 monkey_breed.zip/monkey_breed/train/n3')\n",
        "print(n3_file)\n",
        "print(len(n3_file))"
      ],
      "metadata": {
        "colab": {
          "base_uri": "https://localhost:8080/"
        },
        "id": "mjmHMfJc_KqI",
        "outputId": "624aabad-3c85-40ef-869a-276a173c4ba6"
      },
      "execution_count": 47,
      "outputs": [
        {
          "output_type": "stream",
          "name": "stdout",
          "text": [
            "['n3068.jpg', 'n3150.jpg', 'n3078.jpg', 'n3139.jpg', 'n3064.jpg', 'n3116.jpg', 'n3063.jpg', 'n3125.jpg', 'n3169.jpg', 'n3164.jpg', 'n3073.jpg', 'n3163.jpg', 'n3056.jpg', 'n3145.jpg', 'n3121.jpg', 'n3127.jpg', 'n3077.jpg', 'n3160.jpg', 'n3133.jpg', 'n3025.jpg', 'n3046.jpg', 'n3075.jpg', 'n3042.jpg', 'n3043.jpg', 'n3171.jpg', 'n3159.jpg', 'n3146.jpg', 'n3021.jpg', 'n3069.jpg', 'n3148.jpg', 'n3153.jpg', 'n3117.jpg', 'n3057.jpg', 'n3138.jpg', 'n3170.jpg', 'n3165.jpg', 'n3053.jpg', 'n3126.jpg', 'n3130.jpg', 'n3037.jpg', 'n3168.jpg', 'n3027.jpg', 'n3033.jpg', 'n3039.jpg', 'n3030.jpg', 'n3048.jpg', 'n3123.jpg', 'n3122.jpg', 'n3050.jpg', 'n3047.jpg', 'n3044.jpg', 'n3036.jpg', 'n3131.jpg', 'n3142.jpg', 'n3035.jpg', 'n3026.jpg', 'n3065.jpg', 'n3067.jpg', 'n3166.jpg', 'n3032.jpg', 'n3049.jpg', 'n3172.jpg', 'n3147.jpg', 'n3054.jpg', 'n3076.jpg', 'n3155.jpg', 'n3137.jpg', 'n3052.jpg', 'n3132.jpg', 'n3038.jpg', 'n3110.jpg', 'n3154.jpg', 'n3060.jpg', 'n3031.jpg', 'n3023.jpg', 'n3059.jpg', 'n3112.jpg', 'n3028.jpg', 'n3062.jpg', 'n3114.jpg', 'n3120.jpg', 'n3115.jpg', 'n3118.jpg', 'n3022.jpg', 'n3055.jpg', 'n3020.jpg', 'n3041.jpg', 'n3151.jpg', 'n3128.jpg', 'n3045.jpg', 'n3167.jpg', 'n3070.jpg', 'n3156.jpg', 'n3124.jpg', 'n3029.jpg', 'n3134.jpg', 'n3136.jpg', 'n3040.jpg', 'n3024.jpg', 'n3034.jpg', 'n3141.jpg', 'n3158.jpg', 'n3071.jpg', 'n3066.jpg', 'n3149.jpg', 'n3162.jpg', 'n3144.jpg', 'n3113.jpg', 'n3072.jpg', 'n3074.jpg', 'n3051.jpg', 'n3152.jpg', 'n3143.jpg', 'n3135.jpg', 'n3129.jpg', 'n3119.jpg', 'n3061.jpg', 'n3140.jpg', 'n3161.jpg', 'n3058.jpg', 'n3111.jpg', 'n3157.jpg']\n",
            "122\n"
          ]
        }
      ]
    },
    {
      "cell_type": "code",
      "source": [
        "for i in range(122):\n",
        "  img_path='/content/4.1 monkey_breed.zip/monkey_breed/train/n3/'+n3_file[i]\n",
        "  img_pillow=Image.open(img_path)\n",
        "  img_color=img_pillow.convert('RGB')\n",
        "  img_resized=img_color.resize((64,64))\n",
        "  img_arr=np.array(img_resized)\n",
        "  data.append([img_arr,3])"
      ],
      "metadata": {
        "id": "x8YBlXPe_KtX"
      },
      "execution_count": 48,
      "outputs": []
    },
    {
      "cell_type": "code",
      "source": [
        "n4_file=os.listdir('/content/4.1 monkey_breed.zip/monkey_breed/train/n4')\n",
        "print(n4_file)\n",
        "print(len(n4_file))"
      ],
      "metadata": {
        "colab": {
          "base_uri": "https://localhost:8080/"
        },
        "id": "vT6tfa2r_WyF",
        "outputId": "32fe3065-2180-4881-ed2c-3e3ee4a8f56c"
      },
      "execution_count": 49,
      "outputs": [
        {
          "output_type": "stream",
          "name": "stdout",
          "text": [
            "['n4036.jpg', 'n4117.jpg', 'n4044.jpg', 'n4125.jpg', 'n41556.jpg', 'n4049.jpg', 'n4129.jpg', 'n4037.jpg', 'n4126.jpg', 'n4041.jpg', 'n4034.jpg', 'n41557.jpg', 'n4144.jpg', 'n4022.jpg', 'n41561.jpg', 'n4030.jpg', 'n4137.jpg', 'n4143.jpg', 'n4027.jpg', 'n41565.jpg', 'n4123.jpg', 'n4023.jpg', 'n4155.jpg', 'n4142.jpg', 'n4134.jpg', 'n4039.jpg', 'n4042.jpg', 'n4024.jpg', 'n4120.jpg', 'n4054.jpg', 'n4116.jpg', 'n4150.jpg', 'n4135.jpg', 'n4032.jpg', 'n4154.jpg', 'n4148.jpg', 'n4121.jpg', 'n4016.jpg', 'n4028.jpg', 'n4059.jpg', 'n4017.jpg', 'n4045.jpg', 'n4019.jpg', 'n4020.jpg', 'n4146.jpg', 'n4046.jpg', 'n4115.jpg', 'n4113.jpg', 'n41563.jpg', 'n4139.jpg', 'n4057.jpg', 'n4053.jpg', 'n41559.jpg', 'n4136.jpg', 'n4153.jpg', 'n4043.jpg', 'n4025.jpg', 'n4029.jpg', 'n4052.jpg', 'n4112.jpg', 'n41564.jpg', 'n4056.jpg', 'n4141.jpg', 'n4021.jpg', 'n4111.jpg', 'n4062.jpg', 'n4035.jpg', 'n4132.jpg', 'n4118.jpg', 'n4110.jpg', 'n4031.jpg', 'n4130.jpg', 'n4055.jpg', 'n4026.jpg', 'n4064.jpg', 'n41560.jpg', 'n4018.jpg', 'n41562.jpg', 'n4047.jpg', 'n4060.jpg', 'n4151.jpg', 'n4133.jpg', 'n4114.jpg', 'n4033.jpg', 'n4050.jpg', 'n4040.jpg', 'n4131.jpg', 'n4063.jpg', 'n41558.jpg', 'n4128.jpg', 'n4061.jpg', 'n4124.jpg', 'n4119.jpg', 'n4058.jpg', 'n4145.jpg', 'n4152.jpg', 'n4048.jpg', 'n4149.jpg', 'n4138.jpg', 'n4051.jpg', 'n4140.jpg', 'n4038.jpg', 'n4127.jpg', 'n4147.jpg', 'n4122.jpg']\n",
            "105\n"
          ]
        }
      ]
    },
    {
      "cell_type": "code",
      "source": [
        "for i in range(105):\n",
        "  img_path='/content/4.1 monkey_breed.zip/monkey_breed/train/n4/'+n4_file[i]\n",
        "  img_pillow=Image.open(img_path)\n",
        "  img_color=img_pillow.convert('RGB')\n",
        "  img_resized=img_color.resize((64,64))\n",
        "  img_arr=np.array(img_resized)\n",
        "  data.append([img_arr,4])"
      ],
      "metadata": {
        "id": "DwOH7dT6_W1S"
      },
      "execution_count": 50,
      "outputs": []
    },
    {
      "cell_type": "code",
      "source": [
        "n5_file=os.listdir('/content/4.1 monkey_breed.zip/monkey_breed/train/n5')\n",
        "print(n5_file)\n",
        "print(len(n5_file))"
      ],
      "metadata": {
        "colab": {
          "base_uri": "https://localhost:8080/"
        },
        "id": "_HOsJb_L_nBh",
        "outputId": "2a9ce7b2-f200-4ae3-9fde-ddb5eb1a5e72"
      },
      "execution_count": 51,
      "outputs": [
        {
          "output_type": "stream",
          "name": "stdout",
          "text": [
            "['n5123.jpg', 'n5164.jpg', 'n5048.jpg', 'n5141.jpg', 'n5110.jpg', 'n5025.jpg', 'n5071.jpg', 'n5042.jpg', 'n5152.jpg', 'n5039.jpg', 'n5120.jpg', 'n5038.jpg', 'n5020.jpg', 'n5142.jpg', 'n5035.jpg', 'n5046.jpg', 'n5124.jpg', 'n5151.jpg', 'n5022.jpg', 'n5066.jpg', 'n5033.jpg', 'n5047.jpg', 'n5064.jpg', 'n5136.jpg', 'n5127.jpg', 'n5026.jpg', 'n5030.jpg', 'n5111.jpg', 'n5032.jpg', 'n5034.jpg', 'n5143.jpg', 'n5140.jpg', 'n5131.jpg', 'n5138.jpg', 'n5057.jpg', 'n5019.jpg', 'n5045.jpg', 'n5041.jpg', 'n5061.jpg', 'n5134.jpg', 'n5161.jpg', 'n5021.jpg', 'n5135.jpg', 'n5144.jpg', 'n5125.jpg', 'n5154.jpg', 'n5132.jpg', 'n5130.jpg', 'n5053.jpg', 'n5137.jpg', 'n5166.jpg', 'n5148.jpg', 'n5128.jpg', 'n5063.jpg', 'n5162.jpg', 'n5031.jpg', 'n5052.jpg', 'n5116.jpg', 'n5028.jpg', 'n5146.jpg', 'n5117.jpg', 'n5159.jpg', 'n5160.jpg', 'n5023.jpg', 'n5043.jpg', 'n5149.jpg', 'n5115.jpg', 'n5155.jpg', 'n5158.jpg', 'n5119.jpg', 'n5133.jpg', 'n5049.jpg', 'n5118.jpg', 'n5018.jpg', 'n5037.jpg', 'n5070.jpg', 'n5027.jpg', 'n5145.jpg', 'n5044.jpg', 'n5024.jpg', 'n5129.jpg', 'n5114.jpg', 'n5040.jpg', 'n5058.jpg', 'n5050.jpg', 'n5062.jpg', 'n5157.jpg', 'n5055.jpg', 'n5153.jpg', 'n5051.jpg', 'n5059.jpg', 'n5056.jpg', 'n5156.jpg', 'n5067.jpg', 'n5122.jpg', 'n5068.jpg', 'n5054.jpg', 'n5150.jpg', 'n5113.jpg', 'n5072.jpg', 'n5139.jpg', 'n5126.jpg', 'n5036.jpg', 'n5121.jpg', 'n5029.jpg', 'n5065.jpg', 'n5163.jpg', 'n5069.jpg', 'n5147.jpg', 'n5060.jpg', 'n5112.jpg', 'n5073.jpg', 'n5165.jpg']\n",
            "113\n"
          ]
        }
      ]
    },
    {
      "cell_type": "code",
      "source": [
        "for i in range(113):\n",
        "  img_path='/content/4.1 monkey_breed.zip/monkey_breed/train/n5/'+n5_file[i]\n",
        "  img_pillow=Image.open(img_path)\n",
        "  img_color=img_pillow.convert('RGB')\n",
        "  img_resized=img_color.resize((64,64))\n",
        "  img_arr=np.array(img_resized)\n",
        "  data.append([img_arr,5])"
      ],
      "metadata": {
        "id": "Jbmx9OiK_nEJ"
      },
      "execution_count": 52,
      "outputs": []
    },
    {
      "cell_type": "code",
      "source": [
        "n6_file=os.listdir('/content/4.1 monkey_breed.zip/monkey_breed/train/n6')\n",
        "print(n6_file)\n",
        "print(len(n6_file))"
      ],
      "metadata": {
        "colab": {
          "base_uri": "https://localhost:8080/"
        },
        "id": "vx6I4_5x_2Bn",
        "outputId": "bac0b608-62d2-437d-a768-1e5a180d7c71"
      },
      "execution_count": 53,
      "outputs": [
        {
          "output_type": "stream",
          "name": "stdout",
          "text": [
            "['n6111.jpg', 'n6148.jpg', 'n6141.jpg', 'n6061.jpg', 'n6032.jpg', 'n6144.jpg', 'n6018.jpg', 'n6066.jpg', 'n6058.jpg', 'n6154.jpg', 'n6124.jpg', 'n6160.jpg', 'n6017.jpg', 'n6140.jpg', 'n6062.jpg', 'n6115.jpg', 'n6024.jpg', 'n6042.jpg', 'n6153.jpg', 'n6156.jpg', 'n6030.jpg', 'n6155.jpg', 'n6049.jpg', 'n6139.jpg', 'n6050.jpg', 'n6023.jpg', 'n6019.jpg', 'n6121.jpg', 'n6020.jpg', 'n6159.jpg', 'n6149.jpg', 'n6110.jpg', 'n6063.jpg', 'n6040.jpg', 'n6122.jpg', 'n6057.jpg', 'n6028.jpg', 'n6120.jpg', 'n6059.jpg', 'n6053.jpg', 'n6052.jpg', 'n6038.jpg', 'n6027.jpg', 'n6043.jpg', 'n6161.jpg', 'n6137.jpg', 'n6114.jpg', 'n6157.jpg', 'n6022.jpg', 'n6118.jpg', 'n6146.jpg', 'n6051.jpg', 'n6036.jpg', 'n6041.jpg', 'n6044.jpg', 'n6133.jpg', 'n6126.jpg', 'n6068.jpg', 'n6046.jpg', 'n6037.jpg', 'n6142.jpg', 'n6113.jpg', 'n6112.jpg', 'n6021.jpg', 'n6132.jpg', 'n6128.jpg', 'n6131.jpg', 'n6138.jpg', 'n6065.jpg', 'n6055.jpg', 'n6143.jpg', 'n6026.jpg', 'n6048.jpg', 'n6125.jpg', 'n6060.jpg', 'n6064.jpg', 'n6136.jpg', 'n6158.jpg', 'n6130.jpg', 'n6056.jpg', 'n6016.jpg', 'n6035.jpg', 'n6127.jpg', 'n6117.jpg', 'n6025.jpg', 'n6116.jpg', 'n6135.jpg', 'n6067.jpg', 'n6134.jpg', 'n6069.jpg', 'n6045.jpg', 'n6119.jpg', 'n6039.jpg', 'n6054.jpg', 'n6034.jpg', 'n6150.jpg', 'n6129.jpg', 'n6047.jpg', 'n6147.jpg', 'n6123.jpg', 'n6145.jpg', 'n6031.jpg', 'n6152.jpg', 'n6029.jpg', 'n6151.jpg', 'n6033.jpg']\n",
            "106\n"
          ]
        }
      ]
    },
    {
      "cell_type": "code",
      "source": [
        "for i in range(106):\n",
        "  img_path='/content/4.1 monkey_breed.zip/monkey_breed/train/n6/'+n6_file[i]\n",
        "  img_pillow=Image.open(img_path)\n",
        "  img_color=img_pillow.convert('RGB')\n",
        "  img_resized=img_color.resize((64,64))\n",
        "  img_arr=np.array(img_resized)\n",
        "  data.append([img_arr,6])"
      ],
      "metadata": {
        "id": "fRo9Vdyk_2FC"
      },
      "execution_count": 54,
      "outputs": []
    },
    {
      "cell_type": "code",
      "source": [
        "n7_file=os.listdir('/content/4.1 monkey_breed.zip/monkey_breed/train/n7')\n",
        "print(n7_file)\n",
        "print(len(n7_file))"
      ],
      "metadata": {
        "colab": {
          "base_uri": "https://localhost:8080/"
        },
        "id": "V2ovWDX9ACX3",
        "outputId": "5f06f60e-6e43-4d77-e301-6b1580b3136c"
      },
      "execution_count": 55,
      "outputs": [
        {
          "output_type": "stream",
          "name": "stdout",
          "text": [
            "['n7124.jpg', 'n7148.jpg', 'n7066.jpg', 'n7120.jpg', 'n7143.jpg', 'n7045.jpg', 'n7048.jpg', 'n7055.jpg', 'n7032.jpg', 'n7146.jpg', 'n7126.jpg', 'n7163.jpg', 'n7156.jpg', 'n7125.jpg', 'n7144.jpg', 'n7113.jpg', 'n7154.jpg', 'n7041.jpg', 'n7138.jpg', 'n7127.jpg', 'n7035.jpg', 'n7039.jpg', 'n7155.jpg', 'n7110.jpg', 'n7071.jpg', 'n7160.jpg', 'n7024.jpg', 'n7062.jpg', 'n7069.jpg', 'n7165.jpg', 'n7064.jpg', 'n7033.jpg', 'n7058.jpg', 'n7021.jpg', 'n7133.jpg', 'n7118.jpg', 'n7034.jpg', 'n7063.jpg', 'n7111.jpg', 'n7031.jpg', 'n7051.jpg', 'n7057.jpg', 'n7030.jpg', 'n7037.jpg', 'n7056.jpg', 'n7043.jpg', 'n7158.jpg', 'n7044.jpg', 'n7047.jpg', 'n7153.jpg', 'n7130.jpg', 'n7049.jpg', 'n7038.jpg', 'n7119.jpg', 'n7151.jpg', 'n7167.jpg', 'n7168.jpg', 'n7068.jpg', 'n7116.jpg', 'n7029.jpg', 'n7147.jpg', 'n7036.jpg', 'n7117.jpg', 'n7054.jpg', 'n7134.jpg', 'n7050.jpg', 'n7025.jpg', 'n7149.jpg', 'n7019.jpg', 'n7140.jpg', 'n7145.jpg', 'n7169.jpg', 'n7123.jpg', 'n7042.jpg', 'n7061.jpg', 'n7129.jpg', 'n7131.jpg', 'n7139.jpg', 'n7026.jpg', 'n7121.jpg', 'n7157.jpg', 'n7136.jpg', 'n7137.jpg', 'n7141.jpg', 'n7022.jpg', 'n7065.jpg', 'n7132.jpg', 'n7161.jpg', 'n7164.jpg', 'n7020.jpg', 'n7059.jpg', 'n7112.jpg', 'n7128.jpg', 'n7060.jpg', 'n7052.jpg', 'n7115.jpg', 'n7023.jpg', 'n7166.jpg', 'n7067.jpg', 'n7046.jpg', 'n7070.jpg', 'n7027.jpg', 'n7122.jpg', 'n7053.jpg', 'n7159.jpg', 'n7162.jpg', 'n7040.jpg', 'n7028.jpg', 'n7114.jpg', 'n7150.jpg', 'n7142.jpg', 'n7152.jpg', 'n702.jpg', 'n7135.jpg']\n",
            "114\n"
          ]
        }
      ]
    },
    {
      "cell_type": "code",
      "source": [
        "for i in range(114):\n",
        "  img_path='/content/4.1 monkey_breed.zip/monkey_breed/train/n7/'+n7_file[i]\n",
        "  img_pillow=Image.open(img_path)\n",
        "  img_color=img_pillow.convert('RGB')\n",
        "  img_resized=img_color.resize((64,64))\n",
        "  img_arr=np.array(img_resized)\n",
        "  data.append([img_arr,7])"
      ],
      "metadata": {
        "id": "DG3yj_uBAIJT"
      },
      "execution_count": 56,
      "outputs": []
    },
    {
      "cell_type": "code",
      "source": [
        "n8_file=os.listdir('/content/4.1 monkey_breed.zip/monkey_breed/train/n8')\n",
        "print(n8_file)\n",
        "print(len(n8_file))"
      ],
      "metadata": {
        "colab": {
          "base_uri": "https://localhost:8080/"
        },
        "id": "sk17nGQUAOP_",
        "outputId": "50096940-e707-450f-d041-3ac781ed62e1"
      },
      "execution_count": 57,
      "outputs": [
        {
          "output_type": "stream",
          "name": "stdout",
          "text": [
            "['n8042.jpg', 'n8045.jpg', 'n8070.jpg', 'n8029.jpg', 'n8117.jpg', 'n8066.jpg', 'n8025.jpg', 'n8019.jpg', 'n8026.jpg', 'n8133.jpg', 'n8069.jpg', 'n8151.jpg', 'n8062.jpg', 'n8116.jpg', 'n8033.jpg', 'n8058.jpg', 'n8050.jpg', 'n8065.jpg', 'n8110.jpg', 'n8138.jpg', 'n8113.jpg', 'n8146.jpg', 'n8046.jpg', 'n8140.jpg', 'n8122.jpg', 'n8131.jpg', 'n8141.jpg', 'n8077.jpg', 'n8068.jpg', 'n8027.jpg', 'n8055.jpg', 'n8063.jpg', 'n8035.jpg', 'n8072.jpg', 'n8051.jpg', 'n8125.jpg', 'n8030.jpg', 'n8080.jpg', 'n8128.jpg', 'n8078.jpg', 'n8121.jpg', 'n8147.jpg', 'n8043.jpg', 'n8137.jpg', 'n8144.jpg', 'n8024.jpg', 'n8061.jpg', 'n8130.jpg', 'n8044.jpg', 'n8020.jpg', 'n8112.jpg', 'n8129.jpg', 'n8037.jpg', 'n8071.jpg', 'n8022.jpg', 'n808.jpg', 'n8079.jpg', 'n8076.jpg', 'n8123.jpg', 'n8036.jpg', 'n817.jpg', 'n8052.jpg', 'n8041.jpg', 'n8039.jpg', 'n8142.jpg', 'n8053.jpg', 'n8127.jpg', 'n8143.jpg', 'n8057.jpg', 'n8119.jpg', 'n8074.jpg', 'n8148.jpg', 'n8054.jpg', 'n8040.jpg', 'n8111.jpg', 'n8149.jpg', 'n8049.jpg', 'n8073.jpg', 'n8023.jpg', 'n8075.jpg', 'n8150.jpg', 'n8018.jpg', 'n8114.jpg', 'n8136.jpg', 'n8038.jpg', 'n8135.jpg', 'n8047.jpg', 'n8060.jpg', 'n8034.jpg', 'n8056.jpg', 'n8126.jpg', 'n8124.jpg', 'n8132.jpg', 'n8032.jpg', 'n8064.jpg', 'n8115.jpg', 'n8134.jpg', 'n8139.jpg', 'n8118.jpg', 'n8067.jpg', 'n818.jpg', 'n8059.jpg', 'n8120.jpg', 'n8028.jpg', 'n8145.jpg', 'n8048.jpg']\n",
            "106\n"
          ]
        }
      ]
    },
    {
      "cell_type": "code",
      "source": [
        "for i in range(106):\n",
        "  img_path='/content/4.1 monkey_breed.zip/monkey_breed/train/n8/'+n8_file[i]\n",
        "  img_pillow=Image.open(img_path)\n",
        "  img_color=img_pillow.convert('RGB')\n",
        "  img_resized=img_color.resize((64,64))\n",
        "  img_arr=np.array(img_resized)\n",
        "  data.append([img_arr,8])"
      ],
      "metadata": {
        "id": "fyZqulayAOTA"
      },
      "execution_count": 58,
      "outputs": []
    },
    {
      "cell_type": "code",
      "source": [
        "n9_file=os.listdir('/content/4.1 monkey_breed.zip/monkey_breed/train/n9')\n",
        "print(n9_file)\n",
        "print(len(n9_file))"
      ],
      "metadata": {
        "colab": {
          "base_uri": "https://localhost:8080/"
        },
        "id": "bn04uqrVAauU",
        "outputId": "ba8d522a-6268-4131-ac48-60040656fbae"
      },
      "execution_count": 59,
      "outputs": [
        {
          "output_type": "stream",
          "name": "stdout",
          "text": [
            "['n9120.jpg', 'n9138.jpg', 'n9031.jpg', 'n9017.jpg', 'n9158.jpg', 'n917.jpg', 'n9049.jpg', 'n9150.jpg', 'n9144.jpg', 'n9023.jpg', 'n9042.jpg', 'n9014.jpg', 'n9059.jpg', 'n9053.jpg', 'n9148.jpg', 'n915.jpg', 'n9051.jpg', 'n9039.jpg', 'n9161.jpg', 'n9141.jpg', 'n9133.jpg', 'n9019.jpg', 'n9036.jpg', 'n9139.jpg', 'n9116.jpg', 'n9140.jpg', 'n9029.jpg', 'n9058.jpg', 'n9062.jpg', 'n9124.jpg', 'n9061.jpg', 'n9134.jpg', 'n9041.jpg', 'n9048.jpg', 'n9047.jpg', 'n9020.jpg', 'n9153.jpg', 'n9052.jpg', 'n9143.jpg', 'n9040.jpg', 'n9163.jpg', 'n9067.jpg', 'n9118.jpg', 'n9037.jpg', 'n9121.jpg', 'n9160.png', 'n9032.jpg', 'n9128.jpg', 'n9151jpg', 'n9122.jpg', 'n9045.jpg', 'n9159.jpg', 'n9147.jpg', 'n9123.jpg', 'n9046.jpg', 'n9043.jpg', 'n9125.jpg', 'n9057.jpg', 'n9113.jpg', 'n9126.jpg', 'n9018.jpg', 'n9035.jpg', 'n9157.jpg', 'n9112.jpg', 'n9129.jpg', 'n9142.jpg', 'n9130.jpg', 'n9131.jpg', 'n9127.jpg', 'n9132.jpg', 'n919.jpg', 'n9117.jpg', 'n9110.jpg', 'n9135.jpg', 'n9022.jpg', 'n9044.jpg', 'n9060.jpg', 'n9016.jpg', 'n9033.jpg', 'n9115.jpg', 'n9145.jpg', 'n9027.jpg', 'n9152.jpg', 'n9028.jpg', 'n9066.jpg', 'n9162.jpg', 'n9155.jpg', 'n9055.jpg', 'n9034.jpg', 'n9154.jpg', 'n9063.jpg', 'n9064.jpg', 'n9050.jpg', 'n9111.jpg', 'n9156.jpg', 'n9038.jpg', 'n9119.jpg', 'n9114.jpg', 'n9137.jpg', 'n9054.jpg', 'n9056.jpg', 'n9136.jpg', 'n9065.jpg', 'n9025.jpg', 'n9146.jpg', 'n9151.jpg']\n",
            "106\n"
          ]
        }
      ]
    },
    {
      "cell_type": "code",
      "source": [
        "for i in range(106):\n",
        "  img_path='/content/4.1 monkey_breed.zip/monkey_breed/train/n9/'+n9_file[i]\n",
        "  img_pillow=Image.open(img_path)\n",
        "  img_color=img_pillow.convert('RGB')\n",
        "  img_resized=img_color.resize((64,64))\n",
        "  img_arr=np.array(img_resized)\n",
        "  data.append([img_arr,9])"
      ],
      "metadata": {
        "id": "HkpGMDLUAaxt"
      },
      "execution_count": 60,
      "outputs": []
    },
    {
      "cell_type": "code",
      "source": [
        "len(data)"
      ],
      "metadata": {
        "colab": {
          "base_uri": "https://localhost:8080/"
        },
        "id": "TOcF7MXiAmWS",
        "outputId": "1c7d06a1-9a9c-4a99-c750-6b2c76c12a3a"
      },
      "execution_count": 61,
      "outputs": [
        {
          "output_type": "execute_result",
          "data": {
            "text/plain": [
              "1098"
            ]
          },
          "metadata": {},
          "execution_count": 61
        }
      ]
    },
    {
      "cell_type": "code",
      "source": [
        "x=[]\n",
        "y=[]\n",
        "for i,j in data:\n",
        "  x.append(i)\n",
        "  y.append(j)"
      ],
      "metadata": {
        "id": "kseCvwwFAnYz"
      },
      "execution_count": 62,
      "outputs": []
    },
    {
      "cell_type": "code",
      "source": [
        "type(y[0])"
      ],
      "metadata": {
        "colab": {
          "base_uri": "https://localhost:8080/"
        },
        "id": "-cyVOl_kBuwT",
        "outputId": "91867ad7-472b-437c-ec61-74fad703d97a"
      },
      "execution_count": 64,
      "outputs": [
        {
          "output_type": "execute_result",
          "data": {
            "text/plain": [
              "int"
            ]
          },
          "metadata": {},
          "execution_count": 64
        }
      ]
    },
    {
      "cell_type": "code",
      "source": [
        "x1=np.array(x)\n",
        "y1=np.array(y)"
      ],
      "metadata": {
        "id": "masj-l57Bx_I"
      },
      "execution_count": 65,
      "outputs": []
    },
    {
      "cell_type": "code",
      "source": [
        "from sklearn.model_selection import train_test_split\n",
        "x_train,x_test,y_train,y_test=train_test_split(x1,y1,test_size=0.2,random_state=2)"
      ],
      "metadata": {
        "id": "M5xCMZBcB78D"
      },
      "execution_count": 66,
      "outputs": []
    },
    {
      "cell_type": "code",
      "source": [
        "x_train_scaled=x_train/255"
      ],
      "metadata": {
        "id": "OaKer-EqCcID"
      },
      "execution_count": 68,
      "outputs": []
    },
    {
      "cell_type": "code",
      "source": [
        "import tensorflow as tf\n",
        "from tensorflow import keras"
      ],
      "metadata": {
        "id": "X76IKUXWCdfC"
      },
      "execution_count": 70,
      "outputs": []
    },
    {
      "cell_type": "code",
      "source": [
        "model=keras.Sequential([\n",
        "    keras.layers.Flatten(input_shape=(64,64,3)),\n",
        "    keras.layers.Dense(64,activation='relu'),\n",
        "    keras.layers.Dense(128,activation='relu'),\n",
        "    keras.layers.Dense(10,activation='softmax')\n",
        "])"
      ],
      "metadata": {
        "id": "rcJbKcN_Ck_b"
      },
      "execution_count": 71,
      "outputs": []
    },
    {
      "cell_type": "code",
      "source": [
        "model.compile(optimizer='adam',loss='sparse_categorical_crossentropy',metrics=['accuracy'])"
      ],
      "metadata": {
        "id": "GyxjCo1aDCTD"
      },
      "execution_count": 72,
      "outputs": []
    },
    {
      "cell_type": "code",
      "source": [
        "model.fit(x_train_scaled,y_train,epochs=50)"
      ],
      "metadata": {
        "colab": {
          "base_uri": "https://localhost:8080/"
        },
        "id": "NrvNC1b7DLRT",
        "outputId": "79ac894c-aa0a-4006-9787-de11b3b6d584"
      },
      "execution_count": 74,
      "outputs": [
        {
          "output_type": "stream",
          "name": "stdout",
          "text": [
            "Epoch 1/50\n",
            "28/28 [==============================] - 0s 12ms/step - loss: 1.4686 - accuracy: 0.4897\n",
            "Epoch 2/50\n",
            "28/28 [==============================] - 0s 13ms/step - loss: 1.3659 - accuracy: 0.5239\n",
            "Epoch 3/50\n",
            "28/28 [==============================] - 0s 12ms/step - loss: 1.2820 - accuracy: 0.5615\n",
            "Epoch 4/50\n",
            "28/28 [==============================] - 0s 12ms/step - loss: 1.2428 - accuracy: 0.5683\n",
            "Epoch 5/50\n",
            "28/28 [==============================] - 0s 12ms/step - loss: 1.1483 - accuracy: 0.6025\n",
            "Epoch 6/50\n",
            "28/28 [==============================] - 0s 12ms/step - loss: 1.0302 - accuracy: 0.6481\n",
            "Epoch 7/50\n",
            "28/28 [==============================] - 0s 13ms/step - loss: 0.9969 - accuracy: 0.6697\n",
            "Epoch 8/50\n",
            "28/28 [==============================] - 0s 12ms/step - loss: 0.9845 - accuracy: 0.6526\n",
            "Epoch 9/50\n",
            "28/28 [==============================] - 0s 12ms/step - loss: 0.9001 - accuracy: 0.6925\n",
            "Epoch 10/50\n",
            "28/28 [==============================] - 0s 13ms/step - loss: 0.9129 - accuracy: 0.6902\n",
            "Epoch 11/50\n",
            "28/28 [==============================] - 0s 14ms/step - loss: 0.8939 - accuracy: 0.6982\n",
            "Epoch 12/50\n",
            "28/28 [==============================] - 0s 14ms/step - loss: 0.8460 - accuracy: 0.7096\n",
            "Epoch 13/50\n",
            "28/28 [==============================] - 0s 16ms/step - loss: 0.8066 - accuracy: 0.7221\n",
            "Epoch 14/50\n",
            "28/28 [==============================] - 0s 14ms/step - loss: 0.7205 - accuracy: 0.7699\n",
            "Epoch 15/50\n",
            "28/28 [==============================] - 0s 15ms/step - loss: 0.8806 - accuracy: 0.7141\n",
            "Epoch 16/50\n",
            "28/28 [==============================] - 0s 15ms/step - loss: 0.6989 - accuracy: 0.7688\n",
            "Epoch 17/50\n",
            "28/28 [==============================] - 0s 15ms/step - loss: 0.6871 - accuracy: 0.7916\n",
            "Epoch 18/50\n",
            "28/28 [==============================] - 0s 18ms/step - loss: 0.7254 - accuracy: 0.7517\n",
            "Epoch 19/50\n",
            "28/28 [==============================] - 0s 18ms/step - loss: 0.5527 - accuracy: 0.8314\n",
            "Epoch 20/50\n",
            "28/28 [==============================] - 0s 15ms/step - loss: 0.4847 - accuracy: 0.8690\n",
            "Epoch 21/50\n",
            "28/28 [==============================] - 0s 17ms/step - loss: 0.5451 - accuracy: 0.8246\n",
            "Epoch 22/50\n",
            "28/28 [==============================] - 1s 22ms/step - loss: 0.7295 - accuracy: 0.7358\n",
            "Epoch 23/50\n",
            "28/28 [==============================] - 1s 23ms/step - loss: 0.5395 - accuracy: 0.8223\n",
            "Epoch 24/50\n",
            "28/28 [==============================] - 1s 21ms/step - loss: 0.4913 - accuracy: 0.8440\n",
            "Epoch 25/50\n",
            "28/28 [==============================] - 1s 23ms/step - loss: 0.4066 - accuracy: 0.8872\n",
            "Epoch 26/50\n",
            "28/28 [==============================] - 1s 21ms/step - loss: 0.4064 - accuracy: 0.8838\n",
            "Epoch 27/50\n",
            "28/28 [==============================] - 1s 19ms/step - loss: 0.4025 - accuracy: 0.8770\n",
            "Epoch 28/50\n",
            "28/28 [==============================] - 0s 17ms/step - loss: 0.4000 - accuracy: 0.8793\n",
            "Epoch 29/50\n",
            "28/28 [==============================] - 0s 16ms/step - loss: 0.3644 - accuracy: 0.8918\n",
            "Epoch 30/50\n",
            "28/28 [==============================] - 0s 16ms/step - loss: 0.3007 - accuracy: 0.9203\n",
            "Epoch 31/50\n",
            "28/28 [==============================] - 0s 18ms/step - loss: 0.2728 - accuracy: 0.9328\n",
            "Epoch 32/50\n",
            "28/28 [==============================] - 0s 15ms/step - loss: 0.2699 - accuracy: 0.9317\n",
            "Epoch 33/50\n",
            "28/28 [==============================] - 1s 20ms/step - loss: 0.3434 - accuracy: 0.8964\n",
            "Epoch 34/50\n",
            "28/28 [==============================] - 0s 15ms/step - loss: 0.3180 - accuracy: 0.9032\n",
            "Epoch 35/50\n",
            "28/28 [==============================] - 0s 17ms/step - loss: 0.2491 - accuracy: 0.9237\n",
            "Epoch 36/50\n",
            "28/28 [==============================] - 0s 14ms/step - loss: 0.2082 - accuracy: 0.9465\n",
            "Epoch 37/50\n",
            "28/28 [==============================] - 0s 18ms/step - loss: 0.2648 - accuracy: 0.9237\n",
            "Epoch 38/50\n",
            "28/28 [==============================] - 0s 18ms/step - loss: 0.2212 - accuracy: 0.9499\n",
            "Epoch 39/50\n",
            "28/28 [==============================] - 0s 16ms/step - loss: 0.1752 - accuracy: 0.9704\n",
            "Epoch 40/50\n",
            "28/28 [==============================] - 0s 16ms/step - loss: 0.1593 - accuracy: 0.9761\n",
            "Epoch 41/50\n",
            "28/28 [==============================] - 0s 15ms/step - loss: 0.1386 - accuracy: 0.9761\n",
            "Epoch 42/50\n",
            "28/28 [==============================] - 0s 15ms/step - loss: 0.1481 - accuracy: 0.9704\n",
            "Epoch 43/50\n",
            "28/28 [==============================] - 0s 14ms/step - loss: 0.1543 - accuracy: 0.9704\n",
            "Epoch 44/50\n",
            "28/28 [==============================] - 1s 18ms/step - loss: 0.1339 - accuracy: 0.9715\n",
            "Epoch 45/50\n",
            "28/28 [==============================] - 0s 13ms/step - loss: 0.1427 - accuracy: 0.9636\n",
            "Epoch 46/50\n",
            "28/28 [==============================] - 0s 14ms/step - loss: 0.1166 - accuracy: 0.9772\n",
            "Epoch 47/50\n",
            "28/28 [==============================] - 0s 14ms/step - loss: 0.1096 - accuracy: 0.9806\n",
            "Epoch 48/50\n",
            "28/28 [==============================] - 1s 21ms/step - loss: 0.0880 - accuracy: 0.9875\n",
            "Epoch 49/50\n",
            "28/28 [==============================] - 1s 22ms/step - loss: 0.0636 - accuracy: 0.9909\n",
            "Epoch 50/50\n",
            "28/28 [==============================] - 1s 23ms/step - loss: 0.0659 - accuracy: 0.9909\n"
          ]
        },
        {
          "output_type": "execute_result",
          "data": {
            "text/plain": [
              "<keras.src.callbacks.History at 0x7c7cd1bf5fc0>"
            ]
          },
          "metadata": {},
          "execution_count": 74
        }
      ]
    },
    {
      "cell_type": "code",
      "source": [
        "input_img_path='/content/4.1 monkey_breed.zip/monkey_breed/train/n9/n9014.jpg'\n",
        "img_pillow=Image.open(input_img_path)\n",
        "img_color=img_pillow.convert('RGB')\n",
        "img_resized=img_color.resize((64,64))\n",
        "img_array=np.array(img_resized)\n",
        "img_scaled=img_array/255\n",
        "img_reshaped=np.reshape(img_scaled,[1,64,64,3])\n",
        "perdiction=model.predict(img_reshaped)\n",
        "output=np.argmax(perdiction)\n",
        "if(output==0):\n",
        "  print('The monkey Latin Name is alouatta_palliata\\t')\n",
        "  print('The monkey commonly called as mantled_howler')\n",
        "elif(output==1):\n",
        "  print('The monkey Latin Name is erythrocebus_patas\\t')\n",
        "  print('The monkey commonly called as patas_monkey')\n",
        "elif(output==2):\n",
        "  print('The monkey Latin Name is cacajao_calvus\\t')\n",
        "  print('The monkey commonly called as bald_uakari')\n",
        "elif(output==3):\n",
        "  print('The monkey Latin Name is macaca_fuscata\\t')\n",
        "  print('The monkey commonly called as japanese_macaque')\n",
        "elif(output==4):\n",
        "  print('The monkey Latin Name is cebuella_pygmea\\t')\n",
        "  print('The monkey commonly called as pygmy_marmoset')\n",
        "elif(output==5):\n",
        "  print('The monkey Latin Name is cebus_capucinus\\t')\n",
        "  print('The monkey commonly called as white_headed_capuchin')\n",
        "elif(output==6):\n",
        "  print('The monkey Latin Name is mico_argentatus\\t')\n",
        "  print('The monkey commonly called as silvery_marmoset')\n",
        "elif(output==7):\n",
        "  print('The monkey Latin Name is saimiri_sciureus\\t')\n",
        "  print('The monkey commonly called as common_squirrel_monkey')\n",
        "elif(output==8):\n",
        "  print('The monkey Latin Name is aotus_nigriceps\\t')\n",
        "  print('The monkey commonly called as black_headed_night_monkey')\n",
        "elif(output==9):\n",
        "  print('The monkey Latin Name is trachypithecus_johnii')\n",
        "  print('The monkey commonly called as nilgiri_langur')"
      ],
      "metadata": {
        "colab": {
          "base_uri": "https://localhost:8080/"
        },
        "id": "0Djz7IF6DQbD",
        "outputId": "712565d1-1504-4532-a850-df997c79976f"
      },
      "execution_count": 88,
      "outputs": [
        {
          "output_type": "stream",
          "name": "stdout",
          "text": [
            "1/1 [==============================] - 0s 31ms/step\n",
            "The monkey Latin Name is trachypithecus_johnii\n",
            "The monkey commonly called as nilgiri_langur\n"
          ]
        }
      ]
    },
    {
      "cell_type": "code",
      "source": [],
      "metadata": {
        "id": "7AO--5s-EKJs"
      },
      "execution_count": null,
      "outputs": []
    }
  ]
}